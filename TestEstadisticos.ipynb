{
  "nbformat": 4,
  "nbformat_minor": 0,
  "metadata": {
    "colab": {
      "name": "TestEstadisticos.ipynb",
      "provenance": [],
      "collapsed_sections": [],
      "authorship_tag": "ABX9TyM0KTjofm70NX2FjSoKVzoS",
      "include_colab_link": true
    },
    "kernelspec": {
      "name": "python3",
      "display_name": "Python 3"
    }
  },
  "cells": [
    {
      "cell_type": "markdown",
      "metadata": {
        "id": "view-in-github",
        "colab_type": "text"
      },
      "source": [
        "<a href=\"https://colab.research.google.com/github/nirodriguezsa/Criptografia/blob/master/TestEstadisticos.ipynb\" target=\"_parent\"><img src=\"https://colab.research.google.com/assets/colab-badge.svg\" alt=\"Open In Colab\"/></a>"
      ]
    },
    {
      "cell_type": "code",
      "metadata": {
        "id": "EUgnTHQRpV5V",
        "colab_type": "code",
        "colab": {
          "base_uri": "https://localhost:8080/",
          "height": 87
        },
        "outputId": "f604f78c-b41e-426d-bf7c-7d48ded39937"
      },
      "source": [
        "# Test de Frecuencia: Se aproxima a una distribución χ2 con 1 grado de libertad\n",
        "\n",
        "# Ejercicio: n0 = 84, n1 = 76, luego X1(s) = 0,4\n",
        "# ceros= 84\n",
        "# unos= 76\n",
        "# tamaño = ceros + unos\n",
        "# x1_s = (ceros-unos)**2 / tamaño\n",
        "# print(\"Cantidad de 0´s: \",ceros,\"Cantidad de 1´s: \", unos, \"Frecuencia: \",x1_s)\n",
        "\n",
        "cadenaEntrada = input(\"Ingrese la cadena en binario: \")\n",
        "\n",
        "ceros= cadenaEntrada.count(\"0\")\n",
        "unos= cadenaEntrada.count(\"1\")\n",
        "tamano = len(cadenaEntrada)\n",
        "x1_s = (ceros-unos)**2 / tamano\n",
        "print(\"Cantidad de 0´s: \",ceros,\"\\nCantidad de 1´s: \", unos, \"\\nFrecuencia: \",x1_s)"
      ],
      "execution_count": 14,
      "outputs": [
        {
          "output_type": "stream",
          "text": [
            "Ingrese la cadena en binario: 10101010010101\n",
            "Cantidad de 0´s:  7 \n",
            "Cantidad de 1´s:  7 \n",
            "Frecuencia:  0.0\n"
          ],
          "name": "stdout"
        }
      ]
    },
    {
      "cell_type": "code",
      "metadata": {
        "id": "84SNnviOpcYS",
        "colab_type": "code",
        "colab": {
          "base_uri": "https://localhost:8080/",
          "height": 52
        },
        "outputId": "3d12cd5c-27e7-430a-dc56-f926c96e4da3"
      },
      "source": [
        "# Test Serial Se aproxima a una distribución χ2 con 2 grados de libertad\n",
        "\n",
        "# Ejercicio: n00 = 44, n01 = 40, n10 = 40, n11 = 35, luego X2(s) = 0,6252\n",
        "\n",
        "cadenaEntrada = input(\"Ingrese la cadena en binario: \")\n",
        "\n",
        "ceros       = cadenaEntrada.count(\"0\")\n",
        "unos        = cadenaEntrada.count(\"1\")\n",
        "cantidad_00 = cadenaEntrada.count(\"00\")\n",
        "cantidad_01 = cadenaEntrada.count(\"01\")\n",
        "cantidad_10 = cadenaEntrada.count(\"10\")\n",
        "cantidad_11 = cadenaEntrada.count(\"11\")\n",
        "\n",
        "tamano = len(cadenaEntrada)\n",
        "\n",
        "x2_s = (((4/(tamano-1))*(cantidad_00**2 + cantidad_01**2 + cantidad_10**2 + cantidad_11**2)) - ((2/tamano)*(ceros**2 + unos**2)) + 1)\n",
        "print(\"Test serial: \", x2_s)\n",
        "\n"
      ],
      "execution_count": 31,
      "outputs": [
        {
          "output_type": "stream",
          "text": [
            "Ingrese la cadena en binario: 111010100101\n",
            "Test serial:  1.0303030303030312\n"
          ],
          "name": "stdout"
        }
      ]
    },
    {
      "cell_type": "code",
      "metadata": {
        "id": "8soW-o7LpfLk",
        "colab_type": "code",
        "colab": {
          "base_uri": "https://localhost:8080/",
          "height": 72
        },
        "outputId": "cd771abc-6bec-40aa-b778-48ef7eca84ef"
      },
      "source": [
        "# Test de Poker\n",
        "# Ejercicio:  para m = 3 y k = 53, los bloques 000, 001, 010, 011, 100, 101, 110 y 111 aparecen 5, 10, 6, 4, 12, 3, 6 y 7 veces respectivamente, luego X3(s) = 9,6415\n",
        "import math\n",
        "m=0\n",
        "k=0\n",
        "\n",
        "def separarEnPartesIguales(cadena,m,k):\n",
        "  if(len(cadena)%k != 0): #Si se puede dividir exactamente se deja igual\n",
        "    k += 1 #Si no, se agrega uno para que todas las divisiones queden iguales, a exepcion de la ultima que quedará a los max con m-1 elementos\n",
        "  for i in range(1,k):\n",
        "    cadena= cadena[:(m*i)+(i-1)] + \"S\" + cadena[(m*i)+(i-1):] \n",
        "  respuesta = cadena.split(\"S\") #S es el separador para poder dvidir las cadenas\n",
        "  return respuesta\n",
        "\n",
        "\n",
        "# cadenaEntrada = input(\"Ingrese la cadena en binario DE LONGITUD >= 10: \")\n",
        "cadenaEntrada =\"101001010101001011010010101010010110100101010100101\"\n",
        "tamano = len(cadenaEntrada)\n",
        "\n",
        "for i in range(1,tamano): #Se comprueba, para esa cadena, el valor que tiene que tener k\n",
        "  a = math.floor(tamano/i) #longitud necesaria para dividir en 1 partes es minimo 10, de 40 para 2, 120 para 3 divisiones, etc....\n",
        "  b = (5*(2**i))\n",
        "  if(a >= b):\n",
        "    m = i\n",
        "    k = a\n",
        "\n",
        "grupos = separarEnPartesIguales(cadenaEntrada,m,k)\n",
        "\n",
        "print(grupos)\n",
        "print(m,tamano,k)"
      ],
      "execution_count": 153,
      "outputs": [
        {
          "output_type": "stream",
          "text": [
            "['10', '10', '01', '01', '01', '01', '00', '10', '11', '01', '00', '10', '10', '10', '10', '01', '01', '10', '10', '01', '01', '01', '01', '00', '10', '1']\n",
            "2 51 25\n"
          ],
          "name": "stdout"
        }
      ]
    },
    {
      "cell_type": "code",
      "metadata": {
        "id": "X1z5Va6H6sx1",
        "colab_type": "code",
        "colab": {
          "base_uri": "https://localhost:8080/",
          "height": 35
        },
        "outputId": "ab4e7586-a72f-411c-ad68-b38aa48d0306"
      },
      "source": [
        "# a=(\"hola_mundo_cruel\")\n",
        "\n",
        "# print(a[:5]+ \"7\" + a[5:])\n",
        "len(\"1010010110100101010100101\")"
      ],
      "execution_count": 151,
      "outputs": [
        {
          "output_type": "execute_result",
          "data": {
            "text/plain": [
              "25"
            ]
          },
          "metadata": {
            "tags": []
          },
          "execution_count": 151
        }
      ]
    },
    {
      "cell_type": "code",
      "metadata": {
        "id": "tHW1HNBkplFr",
        "colab_type": "code",
        "colab": {}
      },
      "source": [
        "# 4 Corridos: e1 = 20,25, e2 = 10,0625, e3 = 5, luego k = 3. Hay 25, 4 y 5 corridos de 1's de\n",
        "# tamaños 1, 2 y 3 respectivamente y 8, 20 y 12 corridos de 0's de tamaños 1, 2 y 3\n",
        "# respectivamente, luego X4(s) = 31,7913"
      ],
      "execution_count": 0,
      "outputs": []
    },
    {
      "cell_type": "code",
      "metadata": {
        "id": "fUgkT99WplYc",
        "colab_type": "code",
        "colab": {}
      },
      "source": [
        "# 5 Autocorrelación: para d = 8 A(d) = 100, luego X5(s) = 3,8933"
      ],
      "execution_count": 0,
      "outputs": []
    },
    {
      "cell_type": "code",
      "metadata": {
        "id": "9nQ_5QnFC-I4",
        "colab_type": "code",
        "colab": {
          "base_uri": "https://localhost:8080/",
          "height": 69
        },
        "outputId": "6af01510-0691-48a1-f745-c78c7353f310"
      },
      "source": [
        ""
      ],
      "execution_count": 143,
      "outputs": [
        {
          "output_type": "stream",
          "text": [
            "El tamaño de la cadena es:  57\n",
            "['101010101010101110110101010101', '010111011010101010101011101']\n",
            "2 57 28\n"
          ],
          "name": "stdout"
        }
      ]
    }
  ]
}