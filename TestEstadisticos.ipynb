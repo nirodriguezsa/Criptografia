{
  "nbformat": 4,
  "nbformat_minor": 0,
  "metadata": {
    "colab": {
      "name": "TestEstadisticos.ipynb",
      "provenance": [],
      "collapsed_sections": [],
      "authorship_tag": "ABX9TyP1s/IobHfIFL9XKhGkTj+3",
      "include_colab_link": true
    },
    "kernelspec": {
      "name": "python3",
      "display_name": "Python 3"
    }
  },
  "cells": [
    {
      "cell_type": "markdown",
      "metadata": {
        "id": "view-in-github",
        "colab_type": "text"
      },
      "source": [
        "<a href=\"https://colab.research.google.com/github/nirodriguezsa/Criptografia/blob/master/TestEstadisticos.ipynb\" target=\"_parent\"><img src=\"https://colab.research.google.com/assets/colab-badge.svg\" alt=\"Open In Colab\"/></a>"
      ]
    },
    {
      "cell_type": "code",
      "metadata": {
        "id": "EUgnTHQRpV5V",
        "colab_type": "code",
        "colab": {
          "base_uri": "https://localhost:8080/",
          "height": 87
        },
        "outputId": "f604f78c-b41e-426d-bf7c-7d48ded39937"
      },
      "source": [
        "# Test de Frecuencia: Se aproxima a una distribución χ2 con 1 grado de libertad\n",
        "\n",
        "# Ejercicio: n0 = 84, n1 = 76, luego X1(s) = 0,4\n",
        "# ceros= 84\n",
        "# unos= 76\n",
        "# tamaño = ceros + unos\n",
        "# x1_s = (ceros-unos)**2 / tamaño\n",
        "# print(\"Cantidad de 0´s: \",ceros,\"Cantidad de 1´s: \", unos, \"Frecuencia: \",x1_s)\n",
        "\n",
        "cadenaEntrada = input(\"Ingrese la cadena en binario: \")\n",
        "\n",
        "ceros= cadenaEntrada.count(\"0\")\n",
        "unos= cadenaEntrada.count(\"1\")\n",
        "tamano = len(cadenaEntrada)\n",
        "x1_s = (ceros-unos)**2 / tamano\n",
        "print(\"Cantidad de 0´s: \",ceros,\"\\nCantidad de 1´s: \", unos, \"\\nFrecuencia: \",x1_s)"
      ],
      "execution_count": 14,
      "outputs": [
        {
          "output_type": "stream",
          "text": [
            "Ingrese la cadena en binario: 10101010010101\n",
            "Cantidad de 0´s:  7 \n",
            "Cantidad de 1´s:  7 \n",
            "Frecuencia:  0.0\n"
          ],
          "name": "stdout"
        }
      ]
    },
    {
      "cell_type": "code",
      "metadata": {
        "id": "84SNnviOpcYS",
        "colab_type": "code",
        "colab": {
          "base_uri": "https://localhost:8080/",
          "height": 52
        },
        "outputId": "3d12cd5c-27e7-430a-dc56-f926c96e4da3"
      },
      "source": [
        "# Test Serial Se aproxima a una distribución χ2 con 2 grados de libertad\n",
        "\n",
        "# Ejercicio: n00 = 44, n01 = 40, n10 = 40, n11 = 35, luego X2(s) = 0,6252\n",
        "\n",
        "cadenaEntrada = input(\"Ingrese la cadena en binario: \")\n",
        "\n",
        "ceros       = cadenaEntrada.count(\"0\")\n",
        "unos        = cadenaEntrada.count(\"1\")\n",
        "cantidad_00 = cadenaEntrada.count(\"00\")\n",
        "cantidad_01 = cadenaEntrada.count(\"01\")\n",
        "cantidad_10 = cadenaEntrada.count(\"10\")\n",
        "cantidad_11 = cadenaEntrada.count(\"11\")\n",
        "\n",
        "tamano = len(cadenaEntrada)\n",
        "\n",
        "x2_s = (((4/(tamano-1))*(cantidad_00**2 + cantidad_01**2 + cantidad_10**2 + cantidad_11**2)) - ((2/tamano)*(ceros**2 + unos**2)) + 1)\n",
        "print(\"Test serial: \", x2_s)\n",
        "\n"
      ],
      "execution_count": 31,
      "outputs": [
        {
          "output_type": "stream",
          "text": [
            "Ingrese la cadena en binario: 111010100101\n",
            "Test serial:  1.0303030303030312\n"
          ],
          "name": "stdout"
        }
      ]
    },
    {
      "cell_type": "code",
      "metadata": {
        "id": "8soW-o7LpfLk",
        "colab_type": "code",
        "colab": {
          "base_uri": "https://localhost:8080/",
          "height": 52
        },
        "outputId": "de0e45db-c71d-41a9-ca16-f3396f98f0ee"
      },
      "source": [
        "# Test de Poker: Se aproxima a una distribución χ2 con 2m −1 grados de libertad\n",
        "# Ejercicio:  para m = 3 y k = 53, los bloques 000, 001, 010, 011, 100, 101, 110 y 111 aparecen 5, 10, 6, 4, 12, 3, 6 y 7 veces respectivamente, luego X3(s) = 9,6415\n",
        "import math\n",
        "m = 0\n",
        "k = 0\n",
        "\n",
        "def separarEnPartesIguales(cadena,m,k):\n",
        "  if(len(cadena)%k != 0): #Si se puede dividir exactamente se deja igual\n",
        "    k += 1 #Si no, se agrega uno para que todas las divisiones queden iguales, a exepcion de la ultima que quedará a los max con m-1 elementos\n",
        "  for i in range(1,k):\n",
        "    cadena= cadena[:(m*i)+(i-1)] + \"S\" + cadena[(m*i)+(i-1):] #el i-1 porque si 100(S)1011 c = 3 se van corriendo mal 100(S)10(S)11 deberia ser 100(S)101(S)1\n",
        "  respuesta = cadena.split(\"S\") #S es el separador para poder dvidir las cadenas\n",
        "  if(len(respuesta[-1]) != len(respuesta[1])):#si el ultimo elemento tiene menos valores, se llena con 0's a la izq\n",
        "    for i in range(0,(len(respuesta[1])-len(respuesta[-1]))): #Desde 0 hasta lo que haga falta entre ellas 2\n",
        "      respuesta[-1] = \"0\" + respuesta[-1]\n",
        "  return respuesta\n",
        "\n",
        "def calcularTestPoker(vector,m,k):\n",
        "  total = 0\n",
        "  unicos= [] #elementos unicos sin repeticion\n",
        "  diccionario = {}\n",
        "\n",
        "  for elemento in vector:\n",
        "    if(elemento in unicos): #Si ya esta, no hace nada\n",
        "      continue\n",
        "    else:\n",
        "      unicos.append(elemento)#Si no, es porque es un elemento unico 2^n\n",
        "\n",
        "  for unidad in unicos:\n",
        "      diccionario.setdefault(unidad, vector.count(unidad))  #Se agrega al dic cada elem con su valor(cantidad de apariciones) \n",
        "  \n",
        "  for valor in diccionario.values():\n",
        "    total += valor**2 #cada aparicion de elemento unico se eleva al 2 y se suma a la de los otros elementos\n",
        "\n",
        "  x3_s = (((2**m)/k)*(total)-k) #Formula\n",
        "  return x3_s\n",
        "\n",
        "\n",
        "# main()\n",
        "\n",
        "cadenaEntrada = input(\"Ingrese la cadena de longitud >= 10: \")\n",
        "while(len(cadenaEntrada) < 10):\n",
        "  cadenaEntrada = input(\"¡LONGITUD >= 10 !  : \")\n",
        "# Pruebelo con \"101001010101001011010010101010010110100101010100101\"\n",
        "tamano = len(cadenaEntrada)\n",
        "\n",
        "for i in range(1,tamano): #Se comprueba, para esa cadena, el valor que tiene que tener k\n",
        "  a = math.floor(tamano/i) #longitud necesaria para dividir en 1 partes es minimo 10, de 40 para 2, 120 para 3 divisiones, etc....\n",
        "  b = (5*(2**i))\n",
        "  if(a >= b):\n",
        "    m = i\n",
        "    k = a\n",
        "\n",
        "grupos = separarEnPartesIguales(cadenaEntrada,m,k)\n",
        "print(\"Test de Poker: \",calcularTestPoker(grupos,m,k))\n",
        "#Resuelve el ejercicio con:\n",
        "# diccionario = {'000': 5 , '001': 10 , '010': 6 , '011': 4 , '100': 12 , '101': 3 , '110': 6 , '111': 7 }\n",
        "# x3_s = (((2**m)/k)*(total)-k)"
      ],
      "execution_count": 261,
      "outputs": [
        {
          "output_type": "stream",
          "text": [
            "Ingrese la cadena de longitud >= 10: 101001010101001011010010101010010110100101010100101\n",
            "Test de Poker:  15.64\n"
          ],
          "name": "stdout"
        }
      ]
    },
    {
      "cell_type": "code",
      "metadata": {
        "id": "tHW1HNBkplFr",
        "colab_type": "code",
        "colab": {
          "base_uri": "https://localhost:8080/",
          "height": 35
        },
        "outputId": "5bac23e8-3512-48aa-894d-2195e46d11a7"
      },
      "source": [
        "# 4 Corridos: e1 = 20,25, e2 = 10,0625, e3 = 5, luego k = 3. Hay 25, 4 y 5 corridos de 1's de\n",
        "# tamaños 1, 2 y 3 respectivamente y 8, 20 y 12 corridos de 0's de tamaños 1, 2 y 3 respectivamente, luego X4(s) = 31,7913\n",
        "def contarCorridosMaximos(cadena):\n",
        "  ceros = max(cadena.split(\"1\"))\n",
        "  unos = max(cadena.split(\"0\"))\n",
        "  respuesta = {\"Bi\": len(ceros),\"Gi\": len(unos)}\n",
        "  return respuesta\n",
        "\n",
        "# e = (n−i+3)/(2**(i+2))\n",
        "# x4_s = ∑ (((Bi−e)**2)/e) + ∑ (((Gi−e)**2)/e)\n",
        "# k = máx{i ∈ Z+ | ei ≥ 5}\n",
        "\n",
        "# cadenaEntrada = input(\"Ingrese la cadena en binario: \")\n",
        "#10100000000000101010100101101001010111111111111010010110100101010100101\n",
        "cadenaEntrada = \"101000000000000001010101001011010010101111111111111010010110100101010100101\"\n",
        "n = len(cadenaEntrada)\n",
        "valorCorridos = contarCorridosMaximos(cadenaEntrada)\n",
        "print(valorCorridos)"
      ],
      "execution_count": 307,
      "outputs": [
        {
          "output_type": "stream",
          "text": [
            "{'Bi': 14, 'Gi': 13}\n"
          ],
          "name": "stdout"
        }
      ]
    },
    {
      "cell_type": "code",
      "metadata": {
        "id": "fUgkT99WplYc",
        "colab_type": "code",
        "colab": {}
      },
      "source": [
        "# 5 Autocorrelación: para d = 8 A(d) = 100, luego X5(s) = 3,8933"
      ],
      "execution_count": 0,
      "outputs": []
    }
  ]
}