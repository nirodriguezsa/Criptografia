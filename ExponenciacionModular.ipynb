{
  "nbformat": 4,
  "nbformat_minor": 0,
  "metadata": {
    "colab": {
      "name": "ExponenciacionModular.ipynb",
      "provenance": [],
      "authorship_tag": "ABX9TyMt7XJ0Hj1osuMdxGBCknQ2",
      "include_colab_link": true
    },
    "kernelspec": {
      "name": "python3",
      "display_name": "Python 3"
    }
  },
  "cells": [
    {
      "cell_type": "markdown",
      "metadata": {
        "id": "view-in-github",
        "colab_type": "text"
      },
      "source": [
        "<a href=\"https://colab.research.google.com/github/nirodriguezsa/Criptografia/blob/master/ExponenciacionModular.ipynb\" target=\"_parent\"><img src=\"https://colab.research.google.com/assets/colab-badge.svg\" alt=\"Open In Colab\"/></a>"
      ]
    },
    {
      "cell_type": "code",
      "metadata": {
        "id": "r3hAk3CYtpdz",
        "colab_type": "code",
        "outputId": "0e9f4673-21fd-4ed8-e86e-5bba6913750d",
        "colab": {
          "base_uri": "https://localhost:8080/",
          "height": 52
        }
      },
      "source": [
        "#exponenciacion modular\n",
        "import math\n",
        "def powerMod(a, b, n):\n",
        "  curr = a % n\n",
        "  res = 1\n",
        "  while(b > 0):\n",
        "    if(b%2 == 1):\n",
        "      res = (res * curr)%n\n",
        "    curr = (curr * curr)%n\n",
        "    b = math.floor(b/2)\n",
        "  return res\n",
        "\n",
        "print(powerMod(3,100,100))\n",
        "print(powerMod(2,100,100))"
      ],
      "execution_count": 0,
      "outputs": [
        {
          "output_type": "stream",
          "text": [
            "1\n",
            "76\n"
          ],
          "name": "stdout"
        }
      ]
    },
    {
      "cell_type": "code",
      "metadata": {
        "id": "CawMqHE9twRE",
        "colab_type": "code",
        "outputId": "83c83703-7545-4e07-cc67-c71662cbf178",
        "colab": {
          "base_uri": "https://localhost:8080/",
          "height": 35
        }
      },
      "source": [
        "(3**100)%100"
      ],
      "execution_count": 0,
      "outputs": [
        {
          "output_type": "execute_result",
          "data": {
            "text/plain": [
              "1"
            ]
          },
          "metadata": {
            "tags": []
          },
          "execution_count": 1
        }
      ]
    },
    {
      "cell_type": "code",
      "metadata": {
        "id": "2KSjALDFtwVP",
        "colab_type": "code",
        "outputId": "d1c5994b-9847-4ece-9398-6ff0e2716dad",
        "colab": {
          "base_uri": "https://localhost:8080/",
          "height": 35
        }
      },
      "source": [
        "(2**100)%100"
      ],
      "execution_count": 0,
      "outputs": [
        {
          "output_type": "execute_result",
          "data": {
            "text/plain": [
              "76"
            ]
          },
          "metadata": {
            "tags": []
          },
          "execution_count": 2
        }
      ]
    }
  ]
}