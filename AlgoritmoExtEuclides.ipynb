{
  "nbformat": 4,
  "nbformat_minor": 0,
  "metadata": {
    "colab": {
      "name": "AlgoritmoExtEuclides.ipynb",
      "provenance": [],
      "authorship_tag": "ABX9TyP36uT84x86jXz81/lmIWKE",
      "include_colab_link": true
    },
    "kernelspec": {
      "name": "python3",
      "display_name": "Python 3"
    }
  },
  "cells": [
    {
      "cell_type": "markdown",
      "metadata": {
        "id": "view-in-github",
        "colab_type": "text"
      },
      "source": [
        "<a href=\"https://colab.research.google.com/github/nirodriguezsa/Criptografia/blob/master/AlgoritmoExtEuclides.ipynb\" target=\"_parent\"><img src=\"https://colab.research.google.com/assets/colab-badge.svg\" alt=\"Open In Colab\"/></a>"
      ]
    },
    {
      "cell_type": "code",
      "metadata": {
        "id": "F-vgVgKqlGIK",
        "colab_type": "code",
        "colab": {
          "base_uri": "https://localhost:8080/",
          "height": 35
        },
        "outputId": "b0d105d7-7d02-4949-8713-b8a7e331f653"
      },
      "source": [
        "def xgcd(a, b):\n",
        "    \"\"\"Calcula el greater common divisor (gcd)/ máximo común divisor de a y b.\n",
        "        Utiliza el algoritmo extendido de Euclides.\n",
        " \n",
        "    Args:\n",
        "        a: mcd(a,b)=resultado\n",
        "        b: mcd(a,b)=resultado\n",
        "    Returns:\n",
        "        Returns mcd(a,b) and (u0,v0)\n",
        " \n",
        "    \"\"\"\n",
        "    if b == 0:\n",
        "        return a,1,0\n",
        " \n",
        "    u0 = 1\n",
        "    u1 = 0\n",
        "    v0 = 0\n",
        "    v1 = 1\n",
        " \n",
        "    while b != 0:\n",
        "        q = a//b\n",
        "        r = a - b * q\n",
        "        u = u0 - q * u1\n",
        "        v = v0 - q * v1\n",
        "        #Update a,b\n",
        "        a = b\n",
        "        b = r\n",
        "        #Update for next iteration\n",
        "        u0 = u1\n",
        "        u1 = u\n",
        "        v0 = v1\n",
        "        v1 = v\n",
        " \n",
        "    return  a, u0, v0\n",
        "\n",
        "print(xgcd(13,21))"
      ],
      "execution_count": 1,
      "outputs": [
        {
          "output_type": "stream",
          "text": [
            "(1, -8, 5)\n"
          ],
          "name": "stdout"
        }
      ]
    }
  ]
}